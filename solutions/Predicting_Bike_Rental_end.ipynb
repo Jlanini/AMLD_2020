{
 "cells": [
  {
   "cell_type": "markdown",
   "metadata": {
    "collapsed": true
   },
   "source": [
    "# Predicting Daily Bike Rentals"
   ]
  },
  {
   "cell_type": "markdown",
   "metadata": {},
   "source": [
    "A bike share system is a service in which bicycles are made available for shared use to individuals on a short term basis for a price or free [source](https://en.wikipedia.org/wiki/Bicycle-sharing_system). The dataset related to the bike rental has been realized by Hadi Fanaee-T at the University of Porto, that can be found [here](http://archive.ics.uci.edu/ml/datasets/Bike+Sharing+Dataset).\n",
    "The goal of this project is to predict the total number of bikes people rented in a given hour.\n",
    "\n",
    "To this end different machine learning techniques will be developed, in particular Decison Tree, Random Forest and AdaBoost along with the evaluation of their performances in order to select the one that better describes the considered dataset and that can make the most accurate prediction.\n",
    "\n",
    "\n",
    "The project will be structured as follows:\n",
    "\n",
    "1) Analysis and Data Preparation\n",
    "\n",
    "2) Definition of useful functions (e.g. for cross-validation, test/train split, computation of metrics of interest etc.)\n",
    "\n",
    "3) Models Evaluation\n",
    "\n",
    "4) Analysis of features importance\n",
    "\n",
    "5) Robustness Analysis\n",
    "    \n",
    "6) Hyperparameter Optimization"
   ]
  },
  {
   "cell_type": "markdown",
   "metadata": {},
   "source": [
    "## Analysis and Data Preparation"
   ]
  },
  {
   "cell_type": "markdown",
   "metadata": {},
   "source": [
    "**You will need to import some useful packages for the exercises. You can write them here.**"
   ]
  },
  {
   "cell_type": "code",
   "execution_count": 1,
   "metadata": {},
   "outputs": [],
   "source": [
    "# Imports\n",
    "import os\n",
    "import pandas as pd\n",
    "import json\n",
    "import matplotlib\n",
    "import numpy as np\n",
    "import seaborn as sns   \n",
    "import matplotlib.pyplot as plt\n",
    "import warnings\n",
    "\n",
    "# ML\n",
    "from sklearn.model_selection import cross_val_score, KFold\n",
    "from sklearn.linear_model import LinearRegression\n",
    "from sklearn.metrics import mean_squared_error\n",
    "from sklearn.tree import DecisionTreeRegressor\n",
    "from sklearn.ensemble import RandomForestRegressor\n",
    "from sklearn.model_selection import RandomizedSearchCV\n",
    "from sklearn.model_selection import GridSearchCV\n",
    "from sklearn.ensemble import AdaBoostRegressor\n",
    "from sklearn.metrics import r2_score\n",
    "\n",
    "# Set some useful options\n",
    "pd.set_option('display.max_rows', 500)\n",
    "pd.set_option('display.max_columns', 500)\n",
    "pd.set_option('display.width', 1000)\n",
    "warnings.filterwarnings('ignore')"
   ]
  },
  {
   "cell_type": "markdown",
   "metadata": {},
   "source": [
    "**Now import the dataset and take a look at it to have a better understanding of the features and to identify the response variable. Write down some comments about them.**"
   ]
  },
  {
   "cell_type": "code",
   "execution_count": 2,
   "metadata": {},
   "outputs": [
    {
     "data": {
      "text/html": [
       "<div>\n",
       "<style scoped>\n",
       "    .dataframe tbody tr th:only-of-type {\n",
       "        vertical-align: middle;\n",
       "    }\n",
       "\n",
       "    .dataframe tbody tr th {\n",
       "        vertical-align: top;\n",
       "    }\n",
       "\n",
       "    .dataframe thead th {\n",
       "        text-align: right;\n",
       "    }\n",
       "</style>\n",
       "<table border=\"1\" class=\"dataframe\">\n",
       "  <thead>\n",
       "    <tr style=\"text-align: right;\">\n",
       "      <th></th>\n",
       "      <th>instant</th>\n",
       "      <th>dteday</th>\n",
       "      <th>season</th>\n",
       "      <th>yr</th>\n",
       "      <th>mnth</th>\n",
       "      <th>hr</th>\n",
       "      <th>holiday</th>\n",
       "      <th>weekday</th>\n",
       "      <th>workingday</th>\n",
       "      <th>weathersit</th>\n",
       "      <th>temp</th>\n",
       "      <th>atemp</th>\n",
       "      <th>hum</th>\n",
       "      <th>windspeed</th>\n",
       "      <th>casual</th>\n",
       "      <th>registered</th>\n",
       "      <th>cnt</th>\n",
       "    </tr>\n",
       "  </thead>\n",
       "  <tbody>\n",
       "    <tr>\n",
       "      <th>0</th>\n",
       "      <td>1</td>\n",
       "      <td>2011-01-01</td>\n",
       "      <td>1</td>\n",
       "      <td>0</td>\n",
       "      <td>1</td>\n",
       "      <td>0</td>\n",
       "      <td>0</td>\n",
       "      <td>6</td>\n",
       "      <td>0</td>\n",
       "      <td>1</td>\n",
       "      <td>0.24</td>\n",
       "      <td>0.2879</td>\n",
       "      <td>0.81</td>\n",
       "      <td>0.0</td>\n",
       "      <td>3</td>\n",
       "      <td>13</td>\n",
       "      <td>16</td>\n",
       "    </tr>\n",
       "    <tr>\n",
       "      <th>1</th>\n",
       "      <td>2</td>\n",
       "      <td>2011-01-01</td>\n",
       "      <td>1</td>\n",
       "      <td>0</td>\n",
       "      <td>1</td>\n",
       "      <td>1</td>\n",
       "      <td>0</td>\n",
       "      <td>6</td>\n",
       "      <td>0</td>\n",
       "      <td>1</td>\n",
       "      <td>0.22</td>\n",
       "      <td>0.2727</td>\n",
       "      <td>0.80</td>\n",
       "      <td>0.0</td>\n",
       "      <td>8</td>\n",
       "      <td>32</td>\n",
       "      <td>40</td>\n",
       "    </tr>\n",
       "    <tr>\n",
       "      <th>2</th>\n",
       "      <td>3</td>\n",
       "      <td>2011-01-01</td>\n",
       "      <td>1</td>\n",
       "      <td>0</td>\n",
       "      <td>1</td>\n",
       "      <td>2</td>\n",
       "      <td>0</td>\n",
       "      <td>6</td>\n",
       "      <td>0</td>\n",
       "      <td>1</td>\n",
       "      <td>0.22</td>\n",
       "      <td>0.2727</td>\n",
       "      <td>0.80</td>\n",
       "      <td>0.0</td>\n",
       "      <td>5</td>\n",
       "      <td>27</td>\n",
       "      <td>32</td>\n",
       "    </tr>\n",
       "    <tr>\n",
       "      <th>3</th>\n",
       "      <td>4</td>\n",
       "      <td>2011-01-01</td>\n",
       "      <td>1</td>\n",
       "      <td>0</td>\n",
       "      <td>1</td>\n",
       "      <td>3</td>\n",
       "      <td>0</td>\n",
       "      <td>6</td>\n",
       "      <td>0</td>\n",
       "      <td>1</td>\n",
       "      <td>0.24</td>\n",
       "      <td>0.2879</td>\n",
       "      <td>0.75</td>\n",
       "      <td>0.0</td>\n",
       "      <td>3</td>\n",
       "      <td>10</td>\n",
       "      <td>13</td>\n",
       "    </tr>\n",
       "    <tr>\n",
       "      <th>4</th>\n",
       "      <td>5</td>\n",
       "      <td>2011-01-01</td>\n",
       "      <td>1</td>\n",
       "      <td>0</td>\n",
       "      <td>1</td>\n",
       "      <td>4</td>\n",
       "      <td>0</td>\n",
       "      <td>6</td>\n",
       "      <td>0</td>\n",
       "      <td>1</td>\n",
       "      <td>0.24</td>\n",
       "      <td>0.2879</td>\n",
       "      <td>0.75</td>\n",
       "      <td>0.0</td>\n",
       "      <td>0</td>\n",
       "      <td>1</td>\n",
       "      <td>1</td>\n",
       "    </tr>\n",
       "  </tbody>\n",
       "</table>\n",
       "</div>"
      ],
      "text/plain": [
       "   instant      dteday  season  yr  mnth  hr  holiday  weekday  workingday  weathersit  temp   atemp   hum  windspeed  casual  registered  cnt\n",
       "0        1  2011-01-01       1   0     1   0        0        6           0           1  0.24  0.2879  0.81        0.0       3          13   16\n",
       "1        2  2011-01-01       1   0     1   1        0        6           0           1  0.22  0.2727  0.80        0.0       8          32   40\n",
       "2        3  2011-01-01       1   0     1   2        0        6           0           1  0.22  0.2727  0.80        0.0       5          27   32\n",
       "3        4  2011-01-01       1   0     1   3        0        6           0           1  0.24  0.2879  0.75        0.0       3          10   13\n",
       "4        5  2011-01-01       1   0     1   4        0        6           0           1  0.24  0.2879  0.75        0.0       0           1    1"
      ]
     },
     "execution_count": 2,
     "metadata": {},
     "output_type": "execute_result"
    }
   ],
   "source": [
    "# import the dataset\n",
    "bike_rentals = pd.read_csv(\"../data/hour.csv\")\n",
    "# diplay the first few row in order to take a look at the data\n",
    "bike_rentals.head()"
   ]
  },
  {
   "cell_type": "code",
   "execution_count": 3,
   "metadata": {},
   "outputs": [
    {
     "data": {
      "text/plain": [
       "(17379, 17)"
      ]
     },
     "execution_count": 3,
     "metadata": {},
     "output_type": "execute_result"
    }
   ],
   "source": [
    "bike_rentals.shape"
   ]
  },
  {
   "cell_type": "markdown",
   "metadata": {},
   "source": [
    "As we can see the dataset contains 17 columns and 17379 rows. The description of the most important features is the following:\n",
    "\n",
    "- instant - A unique sequential ID number for each row\n",
    "- dteday - The date of the rentals\n",
    "- season - The season in which the rentals occurred\n",
    "- yr - The year the rentals occurred\n",
    "- mnth - The month the rentals occurred\n",
    "- hr - The hour the rentals occurred\n",
    "- holiday - Whether or not the day was a holiday\n",
    "- weekday - The day of the week (as a number, 0 to 7)\n",
    "- workingday - Whether or not the day was a working day\n",
    "- weathersit - The weather (as a categorical variable)\n",
    "- temp - The temperature, on a 0-1 scale\n",
    "- atemp - The adjusted temperature\n",
    "- hum - The humidity, on a 0-1 scale\n",
    "- windspeed - The wind speed, on a 0-1 scale\n",
    "- casual - The number of casual riders (people who hadn't previously signed up with the bike sharing program)\n",
    "- registered - The number of registered riders (people who had already signed up)\n",
    "- cnt - The total number of bike rentals (casual + registered)\n"
   ]
  },
  {
   "cell_type": "markdown",
   "metadata": {},
   "source": [
    "Since we want to predict the total number of bike rentals, the *cnt* column represents the labels column."
   ]
  },
  {
   "cell_type": "markdown",
   "metadata": {},
   "source": [
    "We can now consider the type of each column in order to evaluate whether we need to convert some of them for the analysis"
   ]
  },
  {
   "cell_type": "code",
   "execution_count": 4,
   "metadata": {},
   "outputs": [
    {
     "data": {
      "text/plain": [
       "instant         int64\n",
       "dteday         object\n",
       "season          int64\n",
       "yr              int64\n",
       "mnth            int64\n",
       "hr              int64\n",
       "holiday         int64\n",
       "weekday         int64\n",
       "workingday      int64\n",
       "weathersit      int64\n",
       "temp          float64\n",
       "atemp         float64\n",
       "hum           float64\n",
       "windspeed     float64\n",
       "casual          int64\n",
       "registered      int64\n",
       "cnt             int64\n",
       "dtype: object"
      ]
     },
     "execution_count": 4,
     "metadata": {},
     "output_type": "execute_result"
    }
   ],
   "source": [
    "bike_rentals.dtypes"
   ]
  },
  {
   "cell_type": "markdown",
   "metadata": {},
   "source": [
    "**Consider the type of each feature and identify the one/s that may not work for a machine learning framework. Would it be useful to convert it/them or should we drop it/them?\n",
    "Moreover think about the yr column: could we also drop this feature?**\n",
    "\n",
    "\n",
    "**Take now a loolk at the *instant* column: do you think it would be helpful in predicting the bike rental? Why?**"
   ]
  },
  {
   "cell_type": "markdown",
   "metadata": {},
   "source": [
    "Only the *dteday* column is of 'object' type, which is not a good data type to be used for a machine learning framework. Moreover to achieve the final goal of predicting the total number of bike rentals, the information about the year and the day may not be very useful. On the other hand the information related to the month may be important, however it is already stored in the *mnth* column, so we can drop *dteday*. For the same reason one may want to drop *yr* column."
   ]
  },
  {
   "cell_type": "code",
   "execution_count": 5,
   "metadata": {},
   "outputs": [],
   "source": [
    "# Drop 'dteday' column\n",
    "bike_rentals.drop(columns = ['dteday', 'yr'], axis = 1, inplace = True)"
   ]
  },
  {
   "cell_type": "code",
   "execution_count": 6,
   "metadata": {},
   "outputs": [
    {
     "data": {
      "text/html": [
       "<div>\n",
       "<style scoped>\n",
       "    .dataframe tbody tr th:only-of-type {\n",
       "        vertical-align: middle;\n",
       "    }\n",
       "\n",
       "    .dataframe tbody tr th {\n",
       "        vertical-align: top;\n",
       "    }\n",
       "\n",
       "    .dataframe thead th {\n",
       "        text-align: right;\n",
       "    }\n",
       "</style>\n",
       "<table border=\"1\" class=\"dataframe\">\n",
       "  <thead>\n",
       "    <tr style=\"text-align: right;\">\n",
       "      <th></th>\n",
       "      <th>instant</th>\n",
       "      <th>season</th>\n",
       "      <th>mnth</th>\n",
       "      <th>hr</th>\n",
       "      <th>holiday</th>\n",
       "      <th>weekday</th>\n",
       "      <th>workingday</th>\n",
       "      <th>weathersit</th>\n",
       "      <th>temp</th>\n",
       "      <th>atemp</th>\n",
       "      <th>hum</th>\n",
       "      <th>windspeed</th>\n",
       "      <th>casual</th>\n",
       "      <th>registered</th>\n",
       "      <th>cnt</th>\n",
       "    </tr>\n",
       "  </thead>\n",
       "  <tbody>\n",
       "    <tr>\n",
       "      <th>0</th>\n",
       "      <td>1</td>\n",
       "      <td>1</td>\n",
       "      <td>1</td>\n",
       "      <td>0</td>\n",
       "      <td>0</td>\n",
       "      <td>6</td>\n",
       "      <td>0</td>\n",
       "      <td>1</td>\n",
       "      <td>0.24</td>\n",
       "      <td>0.2879</td>\n",
       "      <td>0.81</td>\n",
       "      <td>0.0</td>\n",
       "      <td>3</td>\n",
       "      <td>13</td>\n",
       "      <td>16</td>\n",
       "    </tr>\n",
       "    <tr>\n",
       "      <th>1</th>\n",
       "      <td>2</td>\n",
       "      <td>1</td>\n",
       "      <td>1</td>\n",
       "      <td>1</td>\n",
       "      <td>0</td>\n",
       "      <td>6</td>\n",
       "      <td>0</td>\n",
       "      <td>1</td>\n",
       "      <td>0.22</td>\n",
       "      <td>0.2727</td>\n",
       "      <td>0.80</td>\n",
       "      <td>0.0</td>\n",
       "      <td>8</td>\n",
       "      <td>32</td>\n",
       "      <td>40</td>\n",
       "    </tr>\n",
       "    <tr>\n",
       "      <th>2</th>\n",
       "      <td>3</td>\n",
       "      <td>1</td>\n",
       "      <td>1</td>\n",
       "      <td>2</td>\n",
       "      <td>0</td>\n",
       "      <td>6</td>\n",
       "      <td>0</td>\n",
       "      <td>1</td>\n",
       "      <td>0.22</td>\n",
       "      <td>0.2727</td>\n",
       "      <td>0.80</td>\n",
       "      <td>0.0</td>\n",
       "      <td>5</td>\n",
       "      <td>27</td>\n",
       "      <td>32</td>\n",
       "    </tr>\n",
       "    <tr>\n",
       "      <th>3</th>\n",
       "      <td>4</td>\n",
       "      <td>1</td>\n",
       "      <td>1</td>\n",
       "      <td>3</td>\n",
       "      <td>0</td>\n",
       "      <td>6</td>\n",
       "      <td>0</td>\n",
       "      <td>1</td>\n",
       "      <td>0.24</td>\n",
       "      <td>0.2879</td>\n",
       "      <td>0.75</td>\n",
       "      <td>0.0</td>\n",
       "      <td>3</td>\n",
       "      <td>10</td>\n",
       "      <td>13</td>\n",
       "    </tr>\n",
       "    <tr>\n",
       "      <th>4</th>\n",
       "      <td>5</td>\n",
       "      <td>1</td>\n",
       "      <td>1</td>\n",
       "      <td>4</td>\n",
       "      <td>0</td>\n",
       "      <td>6</td>\n",
       "      <td>0</td>\n",
       "      <td>1</td>\n",
       "      <td>0.24</td>\n",
       "      <td>0.2879</td>\n",
       "      <td>0.75</td>\n",
       "      <td>0.0</td>\n",
       "      <td>0</td>\n",
       "      <td>1</td>\n",
       "      <td>1</td>\n",
       "    </tr>\n",
       "  </tbody>\n",
       "</table>\n",
       "</div>"
      ],
      "text/plain": [
       "   instant  season  mnth  hr  holiday  weekday  workingday  weathersit  temp   atemp   hum  windspeed  casual  registered  cnt\n",
       "0        1       1     1   0        0        6           0           1  0.24  0.2879  0.81        0.0       3          13   16\n",
       "1        2       1     1   1        0        6           0           1  0.22  0.2727  0.80        0.0       8          32   40\n",
       "2        3       1     1   2        0        6           0           1  0.22  0.2727  0.80        0.0       5          27   32\n",
       "3        4       1     1   3        0        6           0           1  0.24  0.2879  0.75        0.0       3          10   13\n",
       "4        5       1     1   4        0        6           0           1  0.24  0.2879  0.75        0.0       0           1    1"
      ]
     },
     "execution_count": 6,
     "metadata": {},
     "output_type": "execute_result"
    }
   ],
   "source": [
    "bike_rentals.head()"
   ]
  },
  {
   "cell_type": "markdown",
   "metadata": {},
   "source": [
    "Let us evaluate the distribution of the total rentals"
   ]
  },
  {
   "cell_type": "markdown",
   "metadata": {},
   "source": [
    "**Evaluate now the distribution of the total rentals and comment the results.**"
   ]
  },
  {
   "cell_type": "code",
   "execution_count": 7,
   "metadata": {},
   "outputs": [
    {
     "data": {
      "image/png": "[encoded data removed]",
      "text/plain": [
       "<Figure size 432x288 with 1 Axes>"
      ]
     },
     "metadata": {},
     "output_type": "display_data"
    }
   ],
   "source": [
    "# Build an histogram of the \"cnt\" column\n",
    "%matplotlib inline\n",
    "import matplotlib.pyplot as plt\n",
    "plt.style.use('fivethirtyeight')\n",
    "# hist function is used with the number of bins set to 10\n",
    "# which means that we devide our interval of values in 10 parts\n",
    "plt.hist(bike_rentals['cnt'], bins = 10)\n",
    "plt.show()"
   ]
  },
  {
   "cell_type": "markdown",
   "metadata": {},
   "source": [
    "As we can see the total number of bike rentals most frequent values are the ones between 0 and 100. Indeed we can find these values in almost 7000 samples. The frequency of values assumed by the total number of bike rentals variable decreases almost esponentially when increasing these values. This is intuitive since it is likely that in few, special occasion the number to rented bikes can increase drammatically (arriving at 900), while most of the time its value is between 0 and 200.  "
   ]
  },
  {
   "cell_type": "markdown",
   "metadata": {},
   "source": [
    "**Another way to select the most useful features for your machine learning problem is to evaluate the correlation analysis: features that are highly correlated between them bring redundant information into the analysis, so could be useful to drop one of them. Moreover it is also useful to check which features are more correlated with the response variable.**\n",
    "\n",
    "**Perform a correlation analysis and evaluate the features which are more correlated with the response variable and ask yourself if it would be fair for your analysis to keep them. Why?**\n",
    "\n",
    "**Take now a look at the features that are highly correlated between them: which one could we drop?**"
   ]
  },
  {
   "cell_type": "markdown",
   "metadata": {},
   "source": [
    "We can investigate how each column is correlated with *cnt*. This is in genral a good indicator for the feature selection process."
   ]
  },
  {
   "cell_type": "code",
   "execution_count": 8,
   "metadata": {},
   "outputs": [
    {
     "data": {
      "image/png": "[encoded data removed]",
      "text/plain": [
       "<Figure size 720x360 with 2 Axes>"
      ]
     },
     "metadata": {},
     "output_type": "display_data"
    }
   ],
   "source": [
    "plt.style.use('fivethirtyeight')\n",
    "fig, ax = plt.subplots(figsize=(10,5))         # Sample figsize in inches\n",
    "sns.heatmap(bike_rentals.corr(), linewidths=.5, ax=ax)\n",
    "#sns.heatmap(bike_rentals.corr())\n",
    "plt.show()"
   ]
  },
  {
   "cell_type": "code",
   "execution_count": 9,
   "metadata": {},
   "outputs": [
    {
     "data": {
      "text/plain": [
       "hum          -0.322911\n",
       "weathersit   -0.142426\n",
       "holiday      -0.030927\n",
       "weekday       0.026900\n",
       "workingday    0.030284\n",
       "windspeed     0.093234\n",
       "mnth          0.120638\n",
       "season        0.178056\n",
       "hr            0.394071\n",
       "atemp         0.400929\n",
       "temp          0.404772\n",
       "casual        0.694564\n",
       "registered    0.972151\n",
       "cnt           1.000000\n",
       "Name: cnt, dtype: float64"
      ]
     },
     "execution_count": 9,
     "metadata": {},
     "output_type": "execute_result"
    }
   ],
   "source": [
    "bike_rentals[bike_rentals.columns[1:]].corr()['cnt'][:].sort_values()"
   ]
  },
  {
   "cell_type": "markdown",
   "metadata": {},
   "source": [
    "It looks like the *casual* and *registered* column have the highest correlation values with the response variable, that is the total number of bike rentals (*cnt*). This is expected since *cnt* is derived from them. Indeed if you're trying to predict the number of people who rent bikes in a given hour (cnt), it doesn't make sense that you'd already know casual or registered, because those numbers are added together to get cnt.\n",
    "This is why we will remove them from the dataset."
   ]
  },
  {
   "cell_type": "code",
   "execution_count": 10,
   "metadata": {},
   "outputs": [],
   "source": [
    "bike_rentals.drop(['casual', 'registered'], axis = 1, inplace = True)"
   ]
  },
  {
   "cell_type": "markdown",
   "metadata": {},
   "source": [
    "Moreover, as one can expect, there is a high correlation between *season* and *month* column. So one can drop one of the two. We decided to drop the *month* column just because maybe we do not need such a granularity of the information. Other two columns which are highly correlated are *temp* and *atemp* because of the fact that one is the adjusted value of the other. Let us drop the *atemp* column since the *temp* one is more intuitive to interprete."
   ]
  },
  {
   "cell_type": "code",
   "execution_count": 11,
   "metadata": {},
   "outputs": [],
   "source": [
    "bike_rentals.drop(['mnth', 'atemp'], axis = 1, inplace = True)"
   ]
  },
  {
   "cell_type": "markdown",
   "metadata": {},
   "source": [
    "### Manipulate Columns to Extract Useful Features"
   ]
  },
  {
   "cell_type": "markdown",
   "metadata": {},
   "source": [
    "**Now manipulate the hr column that contains rental hours, from 1 to 24. In particular you can put together a specific time interval to identify a specific moment of the day (e.g. morning from 6am to 12pm) that can be associated with an identifier. One idea is the following:**"
   ]
  },
  {
   "cell_type": "markdown",
   "metadata": {},
   "source": [
    "**- 1 if the hour is from 6 to 12**\n",
    "\n",
    "**- 2 if the hour is from 12 to 18**\n",
    "\n",
    "**- 3 if the hour is from 18 to 24**\n",
    "\n",
    "**- 4 if the hour is from 0 to 6**"
   ]
  },
  {
   "cell_type": "code",
   "execution_count": 12,
   "metadata": {},
   "outputs": [],
   "source": [
    "def assign_label(val):\n",
    "    if((val>=6) and (val<=12)):\n",
    "        final_val = 1#morning etc\n",
    "    if((val>=12) and (val<=18)):\n",
    "        final_val = 2\n",
    "    if((val>=18) and (val<=24)):\n",
    "        final_val = 3\n",
    "    if((val>=0) and (val<=6)):\n",
    "        final_val = 4\n",
    "    return final_val"
   ]
  },
  {
   "cell_type": "code",
   "execution_count": 13,
   "metadata": {},
   "outputs": [],
   "source": [
    "bike_rentals['time_label'] = bike_rentals['hr'].apply(assign_label)"
   ]
  },
  {
   "cell_type": "code",
   "execution_count": 14,
   "metadata": {},
   "outputs": [],
   "source": [
    "bike_rentals.drop(columns= 'hr', axis = 1, inplace=True)"
   ]
  },
  {
   "cell_type": "code",
   "execution_count": 15,
   "metadata": {},
   "outputs": [
    {
     "data": {
      "text/html": [
       "<div>\n",
       "<style scoped>\n",
       "    .dataframe tbody tr th:only-of-type {\n",
       "        vertical-align: middle;\n",
       "    }\n",
       "\n",
       "    .dataframe tbody tr th {\n",
       "        vertical-align: top;\n",
       "    }\n",
       "\n",
       "    .dataframe thead th {\n",
       "        text-align: right;\n",
       "    }\n",
       "</style>\n",
       "<table border=\"1\" class=\"dataframe\">\n",
       "  <thead>\n",
       "    <tr style=\"text-align: right;\">\n",
       "      <th></th>\n",
       "      <th>instant</th>\n",
       "      <th>season</th>\n",
       "      <th>holiday</th>\n",
       "      <th>weekday</th>\n",
       "      <th>workingday</th>\n",
       "      <th>weathersit</th>\n",
       "      <th>temp</th>\n",
       "      <th>hum</th>\n",
       "      <th>windspeed</th>\n",
       "      <th>cnt</th>\n",
       "      <th>time_label</th>\n",
       "    </tr>\n",
       "  </thead>\n",
       "  <tbody>\n",
       "    <tr>\n",
       "      <th>0</th>\n",
       "      <td>1</td>\n",
       "      <td>1</td>\n",
       "      <td>0</td>\n",
       "      <td>6</td>\n",
       "      <td>0</td>\n",
       "      <td>1</td>\n",
       "      <td>0.24</td>\n",
       "      <td>0.81</td>\n",
       "      <td>0.0</td>\n",
       "      <td>16</td>\n",
       "      <td>4</td>\n",
       "    </tr>\n",
       "    <tr>\n",
       "      <th>1</th>\n",
       "      <td>2</td>\n",
       "      <td>1</td>\n",
       "      <td>0</td>\n",
       "      <td>6</td>\n",
       "      <td>0</td>\n",
       "      <td>1</td>\n",
       "      <td>0.22</td>\n",
       "      <td>0.80</td>\n",
       "      <td>0.0</td>\n",
       "      <td>40</td>\n",
       "      <td>4</td>\n",
       "    </tr>\n",
       "    <tr>\n",
       "      <th>2</th>\n",
       "      <td>3</td>\n",
       "      <td>1</td>\n",
       "      <td>0</td>\n",
       "      <td>6</td>\n",
       "      <td>0</td>\n",
       "      <td>1</td>\n",
       "      <td>0.22</td>\n",
       "      <td>0.80</td>\n",
       "      <td>0.0</td>\n",
       "      <td>32</td>\n",
       "      <td>4</td>\n",
       "    </tr>\n",
       "    <tr>\n",
       "      <th>3</th>\n",
       "      <td>4</td>\n",
       "      <td>1</td>\n",
       "      <td>0</td>\n",
       "      <td>6</td>\n",
       "      <td>0</td>\n",
       "      <td>1</td>\n",
       "      <td>0.24</td>\n",
       "      <td>0.75</td>\n",
       "      <td>0.0</td>\n",
       "      <td>13</td>\n",
       "      <td>4</td>\n",
       "    </tr>\n",
       "    <tr>\n",
       "      <th>4</th>\n",
       "      <td>5</td>\n",
       "      <td>1</td>\n",
       "      <td>0</td>\n",
       "      <td>6</td>\n",
       "      <td>0</td>\n",
       "      <td>1</td>\n",
       "      <td>0.24</td>\n",
       "      <td>0.75</td>\n",
       "      <td>0.0</td>\n",
       "      <td>1</td>\n",
       "      <td>4</td>\n",
       "    </tr>\n",
       "  </tbody>\n",
       "</table>\n",
       "</div>"
      ],
      "text/plain": [
       "   instant  season  holiday  weekday  workingday  weathersit  temp   hum  windspeed  cnt  time_label\n",
       "0        1       1        0        6           0           1  0.24  0.81        0.0   16           4\n",
       "1        2       1        0        6           0           1  0.22  0.80        0.0   40           4\n",
       "2        3       1        0        6           0           1  0.22  0.80        0.0   32           4\n",
       "3        4       1        0        6           0           1  0.24  0.75        0.0   13           4\n",
       "4        5       1        0        6           0           1  0.24  0.75        0.0    1           4"
      ]
     },
     "execution_count": 15,
     "metadata": {},
     "output_type": "execute_result"
    }
   ],
   "source": [
    "# let us look at the dataset again\n",
    "bike_rentals.head()"
   ]
  },
  {
   "cell_type": "markdown",
   "metadata": {},
   "source": [
    "Finally we decided to drop the *instant* column since it represents a unique sequential ID number for each row that may not be that helpful in predicting the bike rental. "
   ]
  },
  {
   "cell_type": "code",
   "execution_count": 16,
   "metadata": {},
   "outputs": [],
   "source": [
    "bike_rentals.drop(columns= 'instant', axis = 1, inplace=True)"
   ]
  },
  {
   "cell_type": "code",
   "execution_count": 17,
   "metadata": {},
   "outputs": [
    {
     "data": {
      "text/html": [
       "<div>\n",
       "<style scoped>\n",
       "    .dataframe tbody tr th:only-of-type {\n",
       "        vertical-align: middle;\n",
       "    }\n",
       "\n",
       "    .dataframe tbody tr th {\n",
       "        vertical-align: top;\n",
       "    }\n",
       "\n",
       "    .dataframe thead th {\n",
       "        text-align: right;\n",
       "    }\n",
       "</style>\n",
       "<table border=\"1\" class=\"dataframe\">\n",
       "  <thead>\n",
       "    <tr style=\"text-align: right;\">\n",
       "      <th></th>\n",
       "      <th>season</th>\n",
       "      <th>holiday</th>\n",
       "      <th>weekday</th>\n",
       "      <th>workingday</th>\n",
       "      <th>weathersit</th>\n",
       "      <th>temp</th>\n",
       "      <th>hum</th>\n",
       "      <th>windspeed</th>\n",
       "      <th>cnt</th>\n",
       "      <th>time_label</th>\n",
       "    </tr>\n",
       "  </thead>\n",
       "  <tbody>\n",
       "    <tr>\n",
       "      <th>0</th>\n",
       "      <td>1</td>\n",
       "      <td>0</td>\n",
       "      <td>6</td>\n",
       "      <td>0</td>\n",
       "      <td>1</td>\n",
       "      <td>0.24</td>\n",
       "      <td>0.81</td>\n",
       "      <td>0.0</td>\n",
       "      <td>16</td>\n",
       "      <td>4</td>\n",
       "    </tr>\n",
       "    <tr>\n",
       "      <th>1</th>\n",
       "      <td>1</td>\n",
       "      <td>0</td>\n",
       "      <td>6</td>\n",
       "      <td>0</td>\n",
       "      <td>1</td>\n",
       "      <td>0.22</td>\n",
       "      <td>0.80</td>\n",
       "      <td>0.0</td>\n",
       "      <td>40</td>\n",
       "      <td>4</td>\n",
       "    </tr>\n",
       "    <tr>\n",
       "      <th>2</th>\n",
       "      <td>1</td>\n",
       "      <td>0</td>\n",
       "      <td>6</td>\n",
       "      <td>0</td>\n",
       "      <td>1</td>\n",
       "      <td>0.22</td>\n",
       "      <td>0.80</td>\n",
       "      <td>0.0</td>\n",
       "      <td>32</td>\n",
       "      <td>4</td>\n",
       "    </tr>\n",
       "    <tr>\n",
       "      <th>3</th>\n",
       "      <td>1</td>\n",
       "      <td>0</td>\n",
       "      <td>6</td>\n",
       "      <td>0</td>\n",
       "      <td>1</td>\n",
       "      <td>0.24</td>\n",
       "      <td>0.75</td>\n",
       "      <td>0.0</td>\n",
       "      <td>13</td>\n",
       "      <td>4</td>\n",
       "    </tr>\n",
       "    <tr>\n",
       "      <th>4</th>\n",
       "      <td>1</td>\n",
       "      <td>0</td>\n",
       "      <td>6</td>\n",
       "      <td>0</td>\n",
       "      <td>1</td>\n",
       "      <td>0.24</td>\n",
       "      <td>0.75</td>\n",
       "      <td>0.0</td>\n",
       "      <td>1</td>\n",
       "      <td>4</td>\n",
       "    </tr>\n",
       "  </tbody>\n",
       "</table>\n",
       "</div>"
      ],
      "text/plain": [
       "   season  holiday  weekday  workingday  weathersit  temp   hum  windspeed  cnt  time_label\n",
       "0       1        0        6           0           1  0.24  0.81        0.0   16           4\n",
       "1       1        0        6           0           1  0.22  0.80        0.0   40           4\n",
       "2       1        0        6           0           1  0.22  0.80        0.0   32           4\n",
       "3       1        0        6           0           1  0.24  0.75        0.0   13           4\n",
       "4       1        0        6           0           1  0.24  0.75        0.0    1           4"
      ]
     },
     "execution_count": 17,
     "metadata": {},
     "output_type": "execute_result"
    }
   ],
   "source": [
    "bike_rentals.head()"
   ]
  },
  {
   "cell_type": "code",
   "execution_count": 18,
   "metadata": {},
   "outputs": [
    {
     "data": {
      "text/plain": [
       "(17379, 10)"
      ]
     },
     "execution_count": 18,
     "metadata": {},
     "output_type": "execute_result"
    }
   ],
   "source": [
    "bike_rentals.shape"
   ]
  },
  {
   "cell_type": "code",
   "execution_count": 19,
   "metadata": {},
   "outputs": [
    {
     "data": {
      "text/html": [
       "<div>\n",
       "<style scoped>\n",
       "    .dataframe tbody tr th:only-of-type {\n",
       "        vertical-align: middle;\n",
       "    }\n",
       "\n",
       "    .dataframe tbody tr th {\n",
       "        vertical-align: top;\n",
       "    }\n",
       "\n",
       "    .dataframe thead th {\n",
       "        text-align: right;\n",
       "    }\n",
       "</style>\n",
       "<table border=\"1\" class=\"dataframe\">\n",
       "  <thead>\n",
       "    <tr style=\"text-align: right;\">\n",
       "      <th></th>\n",
       "      <th>season</th>\n",
       "      <th>holiday</th>\n",
       "      <th>weekday</th>\n",
       "      <th>workingday</th>\n",
       "      <th>weathersit</th>\n",
       "      <th>temp</th>\n",
       "      <th>hum</th>\n",
       "      <th>windspeed</th>\n",
       "      <th>cnt</th>\n",
       "      <th>time_label</th>\n",
       "    </tr>\n",
       "  </thead>\n",
       "  <tbody>\n",
       "    <tr>\n",
       "      <th>count</th>\n",
       "      <td>17379.000000</td>\n",
       "      <td>17379.000000</td>\n",
       "      <td>17379.000000</td>\n",
       "      <td>17379.000000</td>\n",
       "      <td>17379.000000</td>\n",
       "      <td>17379.000000</td>\n",
       "      <td>17379.000000</td>\n",
       "      <td>17379.000000</td>\n",
       "      <td>17379.000000</td>\n",
       "      <td>17379.000000</td>\n",
       "    </tr>\n",
       "    <tr>\n",
       "      <th>mean</th>\n",
       "      <td>2.501640</td>\n",
       "      <td>0.028770</td>\n",
       "      <td>3.003683</td>\n",
       "      <td>0.682721</td>\n",
       "      <td>1.425283</td>\n",
       "      <td>0.496987</td>\n",
       "      <td>0.627229</td>\n",
       "      <td>0.190098</td>\n",
       "      <td>189.463088</td>\n",
       "      <td>2.617700</td>\n",
       "    </tr>\n",
       "    <tr>\n",
       "      <th>std</th>\n",
       "      <td>1.106918</td>\n",
       "      <td>0.167165</td>\n",
       "      <td>2.005771</td>\n",
       "      <td>0.465431</td>\n",
       "      <td>0.639357</td>\n",
       "      <td>0.192556</td>\n",
       "      <td>0.192930</td>\n",
       "      <td>0.122340</td>\n",
       "      <td>181.387599</td>\n",
       "      <td>1.109081</td>\n",
       "    </tr>\n",
       "    <tr>\n",
       "      <th>min</th>\n",
       "      <td>1.000000</td>\n",
       "      <td>0.000000</td>\n",
       "      <td>0.000000</td>\n",
       "      <td>0.000000</td>\n",
       "      <td>1.000000</td>\n",
       "      <td>0.020000</td>\n",
       "      <td>0.000000</td>\n",
       "      <td>0.000000</td>\n",
       "      <td>1.000000</td>\n",
       "      <td>1.000000</td>\n",
       "    </tr>\n",
       "    <tr>\n",
       "      <th>25%</th>\n",
       "      <td>2.000000</td>\n",
       "      <td>0.000000</td>\n",
       "      <td>1.000000</td>\n",
       "      <td>0.000000</td>\n",
       "      <td>1.000000</td>\n",
       "      <td>0.340000</td>\n",
       "      <td>0.480000</td>\n",
       "      <td>0.104500</td>\n",
       "      <td>40.000000</td>\n",
       "      <td>2.000000</td>\n",
       "    </tr>\n",
       "    <tr>\n",
       "      <th>50%</th>\n",
       "      <td>3.000000</td>\n",
       "      <td>0.000000</td>\n",
       "      <td>3.000000</td>\n",
       "      <td>1.000000</td>\n",
       "      <td>1.000000</td>\n",
       "      <td>0.500000</td>\n",
       "      <td>0.630000</td>\n",
       "      <td>0.194000</td>\n",
       "      <td>142.000000</td>\n",
       "      <td>3.000000</td>\n",
       "    </tr>\n",
       "    <tr>\n",
       "      <th>75%</th>\n",
       "      <td>3.000000</td>\n",
       "      <td>0.000000</td>\n",
       "      <td>5.000000</td>\n",
       "      <td>1.000000</td>\n",
       "      <td>2.000000</td>\n",
       "      <td>0.660000</td>\n",
       "      <td>0.780000</td>\n",
       "      <td>0.253700</td>\n",
       "      <td>281.000000</td>\n",
       "      <td>4.000000</td>\n",
       "    </tr>\n",
       "    <tr>\n",
       "      <th>max</th>\n",
       "      <td>4.000000</td>\n",
       "      <td>1.000000</td>\n",
       "      <td>6.000000</td>\n",
       "      <td>1.000000</td>\n",
       "      <td>4.000000</td>\n",
       "      <td>1.000000</td>\n",
       "      <td>1.000000</td>\n",
       "      <td>0.850700</td>\n",
       "      <td>977.000000</td>\n",
       "      <td>4.000000</td>\n",
       "    </tr>\n",
       "  </tbody>\n",
       "</table>\n",
       "</div>"
      ],
      "text/plain": [
       "             season       holiday       weekday    workingday    weathersit          temp           hum     windspeed           cnt    time_label\n",
       "count  17379.000000  17379.000000  17379.000000  17379.000000  17379.000000  17379.000000  17379.000000  17379.000000  17379.000000  17379.000000\n",
       "mean       2.501640      0.028770      3.003683      0.682721      1.425283      0.496987      0.627229      0.190098    189.463088      2.617700\n",
       "std        1.106918      0.167165      2.005771      0.465431      0.639357      0.192556      0.192930      0.122340    181.387599      1.109081\n",
       "min        1.000000      0.000000      0.000000      0.000000      1.000000      0.020000      0.000000      0.000000      1.000000      1.000000\n",
       "25%        2.000000      0.000000      1.000000      0.000000      1.000000      0.340000      0.480000      0.104500     40.000000      2.000000\n",
       "50%        3.000000      0.000000      3.000000      1.000000      1.000000      0.500000      0.630000      0.194000    142.000000      3.000000\n",
       "75%        3.000000      0.000000      5.000000      1.000000      2.000000      0.660000      0.780000      0.253700    281.000000      4.000000\n",
       "max        4.000000      1.000000      6.000000      1.000000      4.000000      1.000000      1.000000      0.850700    977.000000      4.000000"
      ]
     },
     "execution_count": 19,
     "metadata": {},
     "output_type": "execute_result"
    }
   ],
   "source": [
    "bike_rentals.describe()"
   ]
  },
  {
   "cell_type": "markdown",
   "metadata": {},
   "source": [
    "**Use the function .describe() to inspect the values of each column: arew they consistent in terms of values  or should we normalize them?**"
   ]
  },
  {
   "cell_type": "markdown",
   "metadata": {},
   "source": [
    "##  Definition of useful functions"
   ]
  },
  {
   "cell_type": "markdown",
   "metadata": {},
   "source": [
    "**In this section you are asked to write some usefull functions:**\n",
    "\n",
    "**Cross_Val(splits, features, target, model)**: \n",
    "\n",
    "This function compute the cross validation in order to estimate the error of the modle with respect to unseen data. The estimation is done by avaraging the performance of the model over different subsets of the training set, divided into training and validation set. The function takes as input the number of splits, the features matrix and the target of the training set and the model. The function should return the R-squared and the train and the test root mean squared error normalized with respect to the variation of the target values (max value - min value). \n",
    "\n",
    "Hint: use KFold to split the training features matrix into train and validation.\n",
    "\n",
    "**Test(X_train, y_train, X_test, y_test, model)**:\n",
    "\n",
    "This function is used to train the model with all the training set and then to test the trained model with the test set. Use as metric the normalized root mean squared error (RMSE/(max(target value)-min(target value))) and the R-squared. The function takes as input the training test (features and target) and the test set (features and target).\n",
    "\n",
    "**Test_Train_Random(data)**:\n",
    "\n",
    "This fucntion should randomly give as output the indices of the original dataset that should belong to the training (80%) and test set (20%).\n",
    "\n",
    "Hint: use random.Random(1).shuffle()"
   ]
  },
  {
   "cell_type": "code",
   "execution_count": 20,
   "metadata": {},
   "outputs": [],
   "source": [
    "# Define useful function for k-fold cross validation\n",
    "def Cross_Val(splits, features, target, model):\n",
    "    \n",
    "    rmse_values_train = []\n",
    "    rmse_values_test = []\n",
    "    # KFold instance.\n",
    "    kf = KFold(n_splits=splits, shuffle=True, random_state=3)\n",
    "    \n",
    "    # Iterate through over each fold.\n",
    "    for train_index, test_index in kf.split(features):\n",
    "        # Training and test sets.\n",
    "        X_train, X_test = features.iloc[train_index], features.iloc[test_index]\n",
    "        y_train, y_test = target.iloc[train_index], target.iloc[test_index]\n",
    "        \n",
    "        # Fit the model and make predictions.\n",
    "        model.fit(X_train, y_train)\n",
    "        predictions_test = model.predict(X_test)\n",
    "        predictions_train = model.predict(X_train)\n",
    "        \n",
    "        # Calculate mse and variance values for this fold.\n",
    "        rmse_test = np.sqrt(mean_squared_error(y_test, predictions_test))\n",
    "        rmse_train = np.sqrt(mean_squared_error(y_train, predictions_train))\n",
    "        max_test_label = np.max(y_test)\n",
    "        min_test_label = np.min(y_test)\n",
    "        max_train_label = np.max(y_train)\n",
    "        min_train_label = np.min(y_train)\n",
    "        delta_test = max_test_label-min_test_label\n",
    "        delta_train = max_train_label-min_train_label\n",
    "        \n",
    "        # Append to arrays to do calculate overall average mse and variance values.\n",
    "        rmse_values_test.append((rmse_test/delta_test)*100)\n",
    "        rmse_values_train.append((rmse_train/delta_train)*100)\n",
    "    avg_rmse_test = np.mean(rmse_values_test)\n",
    "    avg_rmse_train = np.mean(rmse_values_train)\n",
    "    return(round(avg_rmse_test, 3), round(avg_rmse_train, 3))\n"
   ]
  },
  {
   "cell_type": "code",
   "execution_count": 21,
   "metadata": {},
   "outputs": [],
   "source": [
    "def test(X_train, y_train, X_test, y_test, model, plot_res=False):\n",
    "    # Fit the model and make predictions.\n",
    "    model.fit(X_train, y_train)\n",
    "    predictions_test = model.predict(X_test)\n",
    "\n",
    "    # Calculate mse and variance values for this fold.\n",
    "    rmse_test = np.sqrt(mean_squared_error(y_test, predictions_test))\n",
    "    max_test_label = np.max(y_test)\n",
    "    min_test_label = np.min(y_test)\n",
    "    delta_test = max_test_label-min_test_label\n",
    "    if(plot_res):\n",
    "        Plot_Results(y_test, predictions_test)\n",
    "    # Append to arrays to do calculate overall average mse and variance values.\n",
    "    print('R2: '+ str(round(r2_score(y_test, predictions_test), 3)))\n",
    "    print('Normalized RMSE as % is = '+ str(round((rmse_test/delta_test)*100)))\n",
    "    return round((rmse_test/delta_test)*100)"
   ]
  },
  {
   "cell_type": "code",
   "execution_count": 22,
   "metadata": {},
   "outputs": [],
   "source": [
    "# cross validation on the training set\n",
    "def Evaluate (model, X_train, y_train,  X_test, y_test, plot_res=False):\n",
    "    splits = 10\n",
    "    avg_rmse_test, avg_rmse_train = Cross_Val(splits, X_train, y_train, model)\n",
    "    print(avg_rmse_test, avg_rmse_train)\n",
    "    # Test Model\n",
    "    res = test(X_train, y_train, X_test, y_test, model, plot_res)\n",
    "    #print(res)\n",
    "    return res"
   ]
  },
  {
   "cell_type": "code",
   "execution_count": 23,
   "metadata": {},
   "outputs": [],
   "source": [
    "def Plot_Results(y_test, predictions_test):\n",
    "    plt.figure()\n",
    "    plt.scatter(y_test, predictions_test)\n",
    "    axes = plt.gca()\n",
    "    axes.set_xlim([0,1000])\n",
    "    axes.set_ylim([0,1000])\n",
    "    plt.show()"
   ]
  },
  {
   "cell_type": "code",
   "execution_count": 24,
   "metadata": {},
   "outputs": [],
   "source": [
    "import random\n",
    "\n",
    "def Test_Train_Random(data):\n",
    "    x = list(range(len(data)))\n",
    "    random.Random(1).shuffle(x)\n",
    "    limit = int(len(x)*.8)\n",
    "    index_train = x[:limit]\n",
    "    index_test = x[limit:]\n",
    "    return index_train, index_test"
   ]
  },
  {
   "cell_type": "markdown",
   "metadata": {},
   "source": [
    "## Models Evaluation"
   ]
  },
  {
   "cell_type": "markdown",
   "metadata": {},
   "source": [
    "To predict the bike rental we will use the following classifiers:\n",
    "- Decision Tree\n",
    "- Random Forest \n",
    "- Adaboost\n",
    "\n",
    "We will show the overfitting problem in the case of the Decision Tree by comparing the training error with the test error and then we will evaluate how to reduce such an overfitting by using the Random Forest algortihm. \n",
    "To this end we will use k-fold cross validation for training in a first part of the exercise. In the second part we will use k-fold cross validation for hyperparameter optimization. "
   ]
  },
  {
   "cell_type": "markdown",
   "metadata": {},
   "source": [
    "**First of all split the original datas into train_set and test_set by using the indices provided by the Test_Train_Random function. After that divide the test and the training sets into X_train (for the features) / y_train (for the label) and the X_test (for the features) / y_test (for the label) respectively.**\n",
    "\n",
    "Hint: reset indices with reset_indx(drop=True) function."
   ]
  },
  {
   "cell_type": "code",
   "execution_count": 25,
   "metadata": {},
   "outputs": [],
   "source": [
    "\n",
    "\n",
    "# Data preparation\n",
    "\n",
    "# Split data\n",
    "index_train, index_test= Test_Train_Random(bike_rentals)\n",
    "train_sets= bike_rentals.iloc[index_train]\n",
    "train_sets= train_sets.reset_index(drop=True)\n",
    "test_sets= bike_rentals.iloc[index_test]\n",
    "test_sets= test_sets.reset_index(drop=True)\n",
    "\n",
    "# features and target for training\n",
    "feature_cols = test_sets.columns.values[test_sets.columns.values != 'cnt']\n",
    "\n",
    "X_train = train_sets[feature_cols]\n",
    "y_train = train_sets['cnt']\n",
    "\n",
    "X_test = test_sets[feature_cols]\n",
    "y_test = test_sets['cnt']"
   ]
  },
  {
   "cell_type": "markdown",
   "metadata": {},
   "source": [
    "### Decision Tree"
   ]
  },
  {
   "cell_type": "markdown",
   "metadata": {},
   "source": [
    "Decision trees tend to predict outcomes much more reliably than linear regression models. Because a decision tree is a fairly complex model, it also tends to overfit, particularly when we don't tweak parameters like maximum depth and minimum number of samples per leaf. Decision trees are also prone to instability, which means that small changes in the input data can result in a very different output model."
   ]
  },
  {
   "cell_type": "code",
   "execution_count": 26,
   "metadata": {},
   "outputs": [
    {
     "data": {
      "text/plain": [
       "(17.252, 2.121)"
      ]
     },
     "execution_count": 26,
     "metadata": {},
     "output_type": "execute_result"
    }
   ],
   "source": [
    "# cross validation on the training set\n",
    "model = DecisionTreeRegressor(random_state=1)\n",
    "splits = 10\n",
    "avg_rmse_test, avg_rmse_train = Cross_Val(splits, X_train, y_train, model)\n",
    "avg_rmse_test, avg_rmse_train"
   ]
  },
  {
   "cell_type": "code",
   "execution_count": 27,
   "metadata": {},
   "outputs": [
    {
     "name": "stdout",
     "output_type": "stream",
     "text": [
      "R2: 0.236\n",
      "Normalized RMSE as % is = 16.0\n"
     ]
    }
   ],
   "source": [
    "# Test Model\n",
    "model = DecisionTreeRegressor(random_state=1)\n",
    "test(X_train, y_train, X_test, y_test, model)\n",
    "feature_importance_dt = model.feature_importances_"
   ]
  },
  {
   "cell_type": "markdown",
   "metadata": {},
   "source": [
    "As we can see from the results, by using a decision tree (without changing the default hyperparameters; see [documentation](https://scikit-learn.org/stable/modules/generated/sklearn.tree.DecisionTreeRegressor.html)) the root mean squared error for the test set is much higher than the one for the train set. This is a clear sign of overfitting: our model is performing very well on the data used to build it, while it is poorely performing on unseen data. \n",
    "We can try to reduce this problem in two different ways:\n",
    "- hyperparameter optimization (in this way using the some pruning technique)\n",
    "- ensamble techniques (e.g. Random Forest)"
   ]
  },
  {
   "cell_type": "markdown",
   "metadata": {},
   "source": [
    "### Random Forest"
   ]
  },
  {
   "cell_type": "code",
   "execution_count": 28,
   "metadata": {},
   "outputs": [
    {
     "data": {
      "text/plain": [
       "(13.226, 5.546)"
      ]
     },
     "execution_count": 28,
     "metadata": {},
     "output_type": "execute_result"
    }
   ],
   "source": [
    "model = RandomForestRegressor(random_state=1)\n",
    "splits = 10\n",
    "avg_rmse_test, avg_rmse_train = Cross_Val(splits, X_train, y_train, model)\n",
    "avg_rmse_test, avg_rmse_train"
   ]
  },
  {
   "cell_type": "code",
   "execution_count": 29,
   "metadata": {},
   "outputs": [
    {
     "name": "stdout",
     "output_type": "stream",
     "text": [
      "R2: 0.546\n",
      "Normalized RMSE as % is = 12.0\n"
     ]
    }
   ],
   "source": [
    "# Test Model\n",
    "model = RandomForestRegressor(random_state=1)\n",
    "test(X_train, y_train, X_test, y_test, model)\n",
    "feature_importance_rf = model.feature_importances_\n",
    "model_estimators_rf = model.estimators_"
   ]
  },
  {
   "cell_type": "markdown",
   "metadata": {},
   "source": [
    "As expected Random Forest, with respect to Decision tree, performs in general better on the test set, and reduces the difference betwen the performance between root mean squared error related to the test and train sets. Also in this case all the parameters used for the Random Forest are the default ones (see [documentation](https://scikit-learn.org/stable/modules/generated/sklearn.ensemble.RandomForestRegressor.html))"
   ]
  },
  {
   "cell_type": "markdown",
   "metadata": {},
   "source": [
    "### AdaBoost"
   ]
  },
  {
   "cell_type": "code",
   "execution_count": 30,
   "metadata": {},
   "outputs": [
    {
     "data": {
      "text/plain": [
       "(14.84, 13.999)"
      ]
     },
     "execution_count": 30,
     "metadata": {},
     "output_type": "execute_result"
    }
   ],
   "source": [
    "model = AdaBoostRegressor(random_state=1)\n",
    "splits = 10\n",
    "avg_rmse_test, avg_rmse_train = Cross_Val(splits, X_train, y_train, model)\n",
    "avg_rmse_test, avg_rmse_train"
   ]
  },
  {
   "cell_type": "code",
   "execution_count": 31,
   "metadata": {},
   "outputs": [
    {
     "name": "stdout",
     "output_type": "stream",
     "text": [
      "R2: 0.404\n",
      "Normalized RMSE as % is = 14.0\n"
     ]
    }
   ],
   "source": [
    "# Test Model\n",
    "model = AdaBoostRegressor(random_state=1)\n",
    "test(X_train, y_train, X_test, y_test, model)\n",
    "feature_importance_ab = model.feature_importances_\n",
    "model_estimators_ab = model.estimators_"
   ]
  },
  {
   "cell_type": "markdown",
   "metadata": {},
   "source": [
    "**Initialize here 3 different models: DecisionTreeRegressor, RandomForestRegressor and AdaBoostRegressor. Remember to set the random_state parameter to a value in order to have repeatable results (see Scikit-Learn documentation). Using the Cross_Val function, with 10 splits, evaluate the prediction error estimation for the training set and the validation set. Then test your model using the Test function. In this operation store the feature importances and the estimators information for each model with the following commands:**\n",
    "\n",
    "feature_importance = model.feature_importances_\n",
    "\n",
    "model_estimators = model.estimators_\n",
    "\n",
    "**Answer the following questions:**\n",
    "\n",
    "### *Questions*\n",
    "- By using the Cross_Val function you have estimated the prediction error of the model in predicting the training labels and the validation labels. Which one is always bigger? Why?\n",
    "- How these two errors change according to the model used? Why? "
   ]
  },
  {
   "cell_type": "markdown",
   "metadata": {},
   "source": [
    "## Analysis of features importance\n",
    "Given the generated model, evaluate the contribution of each feature and see how the importance of such features change over the algorithms.\n",
    "\n",
    "**In this part you are asked to evaluate the importance of each feature. In the previous section you have stored the feature_importances_ for each model. Plot them using a bar plot and answer the following questions:**\n",
    "\n",
    "\n",
    "### *Questions*\n",
    "- Is the features contribution in each algorithm consistent?\n",
    "- Are the most important features coherent with a common interpretation? Why?"
   ]
  },
  {
   "cell_type": "code",
   "execution_count": 32,
   "metadata": {},
   "outputs": [],
   "source": [
    "def Feature_Importance(feature_importance, algorithm, xlabel):\n",
    "    x = np.arange(len(np.sort(feature_importance)))\n",
    "    plt.xticks(rotation=90)\n",
    "    plt.bar(xlabel,np.sort(feature_importance))\n",
    "    plt.title(algorithm)\n",
    "    plt.show()"
   ]
  },
  {
   "cell_type": "code",
   "execution_count": 33,
   "metadata": {},
   "outputs": [
    {
     "data": {
      "image/png": "[encoded data removed]",
      "text/plain": [
       "<Figure size 432x288 with 1 Axes>"
      ]
     },
     "metadata": {},
     "output_type": "display_data"
    },
    {
     "data": {
      "image/png": "[encoded data removed]",
      "text/plain": [
       "<Figure size 432x288 with 1 Axes>"
      ]
     },
     "metadata": {},
     "output_type": "display_data"
    },
    {
     "data": {
      "image/png": "[encoded data removed]",
      "text/plain": [
       "<Figure size 432x288 with 1 Axes>"
      ]
     },
     "metadata": {},
     "output_type": "display_data"
    }
   ],
   "source": [
    "feature_importance = [feature_importance_dt, feature_importance_rf, feature_importance_ab]\n",
    "algorithm_vect = ['Decision Tree', 'Random Forest', 'AdaBoost']\n",
    "xlabel = X_train.columns.values\n",
    "for fi,algorithm  in zip(feature_importance, algorithm_vect):\n",
    "    Feature_Importance(fi, algorithm, xlabel)"
   ]
  },
  {
   "cell_type": "markdown",
   "metadata": {},
   "source": [
    "In all the cases it looks like the top 4 features are:\n",
    "- the time of the day \n",
    "- the windspeed\n",
    "- the humidity level\n",
    "- the temperature.\n",
    "\n",
    "This result is not surprising since it is common to use the bike in specific time of the day and according to the weather condition. It is interesting to notice that with AdaBoost one can think of completely excluding certain features from the computation since they do not give any contribution to the prediction."
   ]
  },
  {
   "cell_type": "markdown",
   "metadata": {},
   "source": [
    "## Robustness Analysis\n",
    "\n",
    "**In this section you are asked to add noise to the features of the training set and then train the model with this noisy dataset. Then test the model with the test set and check whether how much the test error of each moidel is affected by the noise addition. Set the noise as follows:**\n",
    "\n",
    "noise = np.random.rand(X_train.shape[0])*val\n",
    "\n",
    "X_train_noisy = X_train.copy()\n",
    "\n",
    "for col in X_train.columns:\n",
    "\n",
    "        X_train_noisy[col] = X_train_noisy[col]+noise\n",
    "\n",
    "**where val should vary in the following range: [0, 1, 2, 3, 4, 5, 6, 7, 8, 9, 10].**\n",
    "\n",
    "**NB since it is a random noise, in order to have repeatable results use np.random.seed(seed_number) where you can set a specific seed_number.**\n",
    "\n",
    "**Plot the results for each model at each val value, and answer the following questions:***\n",
    "\n",
    "### *Questions*\n",
    "- How do the performance of each model change while increasing the noise? \n",
    "- Which algorithm is more affected by the addition of the noise? And which one is more robust?\n",
    "- Did you expect these results? Why?"
   ]
  },
  {
   "cell_type": "markdown",
   "metadata": {},
   "source": [
    "### Noise addition"
   ]
  },
  {
   "cell_type": "markdown",
   "metadata": {},
   "source": [
    "There are several ways to add noise in the your dataset. In our case we are considering to add random noise in the training "
   ]
  },
  {
   "cell_type": "code",
   "execution_count": 34,
   "metadata": {},
   "outputs": [],
   "source": [
    "def Add_Noise(val):\n",
    "    np.random.seed(52)#(2)6,8\n",
    "    noise = np.random.rand(X_train.shape[0])*val\n",
    "    X_train_noisy = X_train.copy()\n",
    "    for col in X_train.columns:\n",
    "        X_train_noisy[col] = X_train_noisy[col]+noise\n",
    "        \n",
    "    #Decision Tree\n",
    "    model = DecisionTreeRegressor(random_state=1)\n",
    "    dt = Evaluate(model, X_train_noisy, y_train, X_test, y_test)\n",
    "    \n",
    "    #Random Forest\n",
    "    model = RandomForestRegressor(random_state=1)\n",
    "    rf = Evaluate(model, X_train_noisy, y_train, X_test, y_test)\n",
    "    \n",
    "    #AdaBoost\n",
    "    model = AdaBoostRegressor(random_state=1)\n",
    "    ab = Evaluate(model, X_train_noisy, y_train, X_test, y_test)\n",
    "    return dt, rf, ab"
   ]
  },
  {
   "cell_type": "code",
   "execution_count": 35,
   "metadata": {},
   "outputs": [
    {
     "name": "stdout",
     "output_type": "stream",
     "text": [
      "17.252 2.121\n",
      "R2: 0.236\n",
      "Normalized RMSE as % is = 16.0\n",
      "13.226 5.546\n",
      "R2: 0.546\n",
      "Normalized RMSE as % is = 12.0\n",
      "14.84 13.999\n",
      "R2: 0.404\n",
      "Normalized RMSE as % is = 14.0\n",
      "18.402 0.0\n",
      "R2: -0.19\n",
      "Normalized RMSE as % is = 20.0\n",
      "13.929 5.595\n",
      "R2: 0.437\n",
      "Normalized RMSE as % is = 14.0\n",
      "15.566 14.696\n",
      "R2: 0.361\n",
      "Normalized RMSE as % is = 15.0\n",
      "18.826 0.0\n",
      "R2: -0.318\n",
      "Normalized RMSE as % is = 21.0\n",
      "14.223 5.74\n",
      "R2: 0.383\n",
      "Normalized RMSE as % is = 14.0\n",
      "16.583 15.623\n",
      "R2: -0.06\n",
      "Normalized RMSE as % is = 19.0\n",
      "19.024 0.0\n",
      "R2: -0.063\n",
      "Normalized RMSE as % is = 19.0\n",
      "14.489 5.793\n",
      "R2: 0.336\n",
      "Normalized RMSE as % is = 15.0\n",
      "17.514 16.517\n",
      "R2: -0.048\n",
      "Normalized RMSE as % is = 19.0\n",
      "19.275 0.0\n",
      "R2: -0.494\n",
      "Normalized RMSE as % is = 22.0\n",
      "14.492 5.822\n",
      "R2: 0.304\n",
      "Normalized RMSE as % is = 15.0\n",
      "17.803 16.831\n",
      "R2: -0.025\n",
      "Normalized RMSE as % is = 19.0\n",
      "19.541 0.0\n",
      "R2: -0.296\n",
      "Normalized RMSE as % is = 21.0\n",
      "14.689 5.911\n",
      "R2: 0.375\n",
      "Normalized RMSE as % is = 15.0\n",
      "18.382 17.267\n",
      "R2: -0.134\n",
      "Normalized RMSE as % is = 20.0\n",
      "19.504 0.0\n",
      "R2: -0.357\n",
      "Normalized RMSE as % is = 21.0\n",
      "14.781 5.937\n",
      "R2: 0.315\n",
      "Normalized RMSE as % is = 15.0\n",
      "18.702 17.573\n",
      "R2: -0.104\n",
      "Normalized RMSE as % is = 19.0\n",
      "19.948 0.0\n",
      "R2: -0.212\n",
      "Normalized RMSE as % is = 20.0\n",
      "14.844 5.959\n",
      "R2: 0.294\n",
      "Normalized RMSE as % is = 15.0\n",
      "19.049 17.981\n",
      "R2: -0.246\n",
      "Normalized RMSE as % is = 21.0\n",
      "20.093 0.0\n",
      "R2: -0.22\n",
      "Normalized RMSE as % is = 20.0\n",
      "14.907 5.97\n",
      "R2: 0.255\n",
      "Normalized RMSE as % is = 16.0\n",
      "19.678 18.499\n",
      "R2: -0.243\n",
      "Normalized RMSE as % is = 21.0\n",
      "20.137 0.0\n",
      "R2: -0.06\n",
      "Normalized RMSE as % is = 19.0\n",
      "14.934 5.97\n",
      "R2: 0.391\n",
      "Normalized RMSE as % is = 14.0\n",
      "19.424 18.304\n",
      "R2: -0.235\n",
      "Normalized RMSE as % is = 20.0\n",
      "19.844 0.0\n",
      "R2: -0.057\n",
      "Normalized RMSE as % is = 19.0\n",
      "14.955 6.018\n",
      "R2: 0.333\n",
      "Normalized RMSE as % is = 15.0\n",
      "19.475 18.357\n",
      "R2: -0.053\n",
      "Normalized RMSE as % is = 19.0\n"
     ]
    }
   ],
   "source": [
    "dt = []\n",
    "rf = []\n",
    "ab = []\n",
    "range_ = [0, 1, 2, 3, 4, 5, 6, 7, 8, 9, 10]\n",
    "for val in range_:\n",
    "    dt_tmp, rf_tmp, ab_tmp = Add_Noise(val)\n",
    "    dt.append(dt_tmp)\n",
    "    rf.append(rf_tmp)\n",
    "    ab.append(ab_tmp)"
   ]
  },
  {
   "cell_type": "code",
   "execution_count": 36,
   "metadata": {},
   "outputs": [
    {
     "data": {
      "text/html": [
       "<div>\n",
       "<style scoped>\n",
       "    .dataframe tbody tr th:only-of-type {\n",
       "        vertical-align: middle;\n",
       "    }\n",
       "\n",
       "    .dataframe tbody tr th {\n",
       "        vertical-align: top;\n",
       "    }\n",
       "\n",
       "    .dataframe thead th {\n",
       "        text-align: right;\n",
       "    }\n",
       "</style>\n",
       "<table border=\"1\" class=\"dataframe\">\n",
       "  <thead>\n",
       "    <tr style=\"text-align: right;\">\n",
       "      <th></th>\n",
       "      <th>Decision Tree</th>\n",
       "      <th>Random Forest</th>\n",
       "      <th>AdaBoost</th>\n",
       "    </tr>\n",
       "  </thead>\n",
       "  <tbody>\n",
       "    <tr>\n",
       "      <th>0</th>\n",
       "      <td>16.0</td>\n",
       "      <td>12.0</td>\n",
       "      <td>14.0</td>\n",
       "    </tr>\n",
       "    <tr>\n",
       "      <th>1</th>\n",
       "      <td>20.0</td>\n",
       "      <td>14.0</td>\n",
       "      <td>15.0</td>\n",
       "    </tr>\n",
       "    <tr>\n",
       "      <th>2</th>\n",
       "      <td>21.0</td>\n",
       "      <td>14.0</td>\n",
       "      <td>19.0</td>\n",
       "    </tr>\n",
       "    <tr>\n",
       "      <th>3</th>\n",
       "      <td>19.0</td>\n",
       "      <td>15.0</td>\n",
       "      <td>19.0</td>\n",
       "    </tr>\n",
       "    <tr>\n",
       "      <th>4</th>\n",
       "      <td>22.0</td>\n",
       "      <td>15.0</td>\n",
       "      <td>19.0</td>\n",
       "    </tr>\n",
       "    <tr>\n",
       "      <th>5</th>\n",
       "      <td>21.0</td>\n",
       "      <td>15.0</td>\n",
       "      <td>20.0</td>\n",
       "    </tr>\n",
       "    <tr>\n",
       "      <th>6</th>\n",
       "      <td>21.0</td>\n",
       "      <td>15.0</td>\n",
       "      <td>19.0</td>\n",
       "    </tr>\n",
       "    <tr>\n",
       "      <th>7</th>\n",
       "      <td>20.0</td>\n",
       "      <td>15.0</td>\n",
       "      <td>21.0</td>\n",
       "    </tr>\n",
       "    <tr>\n",
       "      <th>8</th>\n",
       "      <td>20.0</td>\n",
       "      <td>16.0</td>\n",
       "      <td>21.0</td>\n",
       "    </tr>\n",
       "    <tr>\n",
       "      <th>9</th>\n",
       "      <td>19.0</td>\n",
       "      <td>14.0</td>\n",
       "      <td>20.0</td>\n",
       "    </tr>\n",
       "    <tr>\n",
       "      <th>10</th>\n",
       "      <td>19.0</td>\n",
       "      <td>15.0</td>\n",
       "      <td>19.0</td>\n",
       "    </tr>\n",
       "  </tbody>\n",
       "</table>\n",
       "</div>"
      ],
      "text/plain": [
       "    Decision Tree  Random Forest  AdaBoost\n",
       "0            16.0           12.0      14.0\n",
       "1            20.0           14.0      15.0\n",
       "2            21.0           14.0      19.0\n",
       "3            19.0           15.0      19.0\n",
       "4            22.0           15.0      19.0\n",
       "5            21.0           15.0      20.0\n",
       "6            21.0           15.0      19.0\n",
       "7            20.0           15.0      21.0\n",
       "8            20.0           16.0      21.0\n",
       "9            19.0           14.0      20.0\n",
       "10           19.0           15.0      19.0"
      ]
     },
     "execution_count": 36,
     "metadata": {},
     "output_type": "execute_result"
    }
   ],
   "source": [
    "Table = pd.DataFrame({'Decision Tree':dt, 'Random Forest':rf, 'AdaBoost':ab})\n",
    "Table"
   ]
  },
  {
   "cell_type": "code",
   "execution_count": 38,
   "metadata": {},
   "outputs": [
    {
     "data": {
      "image/png": "[encoded data removed]",
      "text/plain": [
       "<Figure size 432x288 with 1 Axes>"
      ]
     },
     "metadata": {},
     "output_type": "display_data"
    }
   ],
   "source": [
    "plt.figure()\n",
    "plt.plot(range_, dt, 'b')\n",
    "plt.plot(range_, rf, 'g')\n",
    "plt.plot(range_, ab, 'r')\n",
    "plt.legend(['Decision Tree', 'Random Forest', 'AdaBoost'])\n",
    "plt.xlabel('Noise Dimension')\n",
    "plt.ylabel('Percentage of Normalized RMSE')\n",
    "plt.show()"
   ]
  },
  {
   "cell_type": "markdown",
   "metadata": {},
   "source": [
    "## Hyperparameter Optimization\n",
    "\n",
    "**In this section you are asked to optimize some hyperparameters of the models under analysis (Decision Tree, Random Forest and AdaBoost). For each hyperparameter you should define a set of values to test and then combine all the sets into a dictionary structure. Use the RandomizedSearchCV function to search the hyper-parameter space for the best cross validation score (see [documentation](https://scikit-learn.org/stable/modules/grid_search.html#grid-search)). Compare the results given by the best hyperparameters combination with respect to the default model.**\n",
    "\n",
    "### *Questions*\n",
    "- Can we improve the performance of the models by optimizing the hyperameters?\n",
    "- What is the bottleneck in the hyperparameters optimization? How would you handle this problem? (two many combinations --> decrease granularity --> find range and then increase details)"
   ]
  },
  {
   "cell_type": "code",
   "execution_count": 39,
   "metadata": {},
   "outputs": [],
   "source": [
    "def Hyperp_Optim(hyperp, model):\n",
    "    clf = RandomizedSearchCV(model, hyperparameters, random_state=1, n_iter=100, cv=5, verbose=0, n_jobs=-1)\n",
    "    print('Normalized RMSE with hyperparameter optimization:')\n",
    "    with_ = test(X_train, y_train, X_test, y_test, clf)\n",
    "    print(with_)\n",
    "    print('Normalized RMSE without hyperparameter optimization:')\n",
    "    without_ = test(X_train, y_train, X_test, y_test, model)\n",
    "    print(without_)\n",
    "    "
   ]
  },
  {
   "cell_type": "code",
   "execution_count": 40,
   "metadata": {},
   "outputs": [
    {
     "name": "stdout",
     "output_type": "stream",
     "text": [
      "Normalized RMSE with hyperparameter optimization:\n",
      "R2: 0.528\n",
      "Normalized RMSE as % is = 13.0\n",
      "13.0\n",
      "Normalized RMSE without hyperparameter optimization:\n",
      "R2: 0.236\n",
      "Normalized RMSE as % is = 16.0\n",
      "16.0\n"
     ]
    }
   ],
   "source": [
    "# Decision Tree\n",
    "max_depth_range = [20, 30, 40]#range(1, 10)\n",
    "min_samples_leaf_range = [2, 5, 10]#range(1, 10)\n",
    "# Create hyperparameter options\n",
    "hyperparameters = dict(max_depth=max_depth_range, min_samples_leaf=min_samples_leaf_range)\n",
    "\n",
    "model = DecisionTreeRegressor(random_state=1)\n",
    "Hyperp_Optim(hyperparameters, model)"
   ]
  },
  {
   "cell_type": "code",
   "execution_count": 41,
   "metadata": {},
   "outputs": [
    {
     "name": "stdout",
     "output_type": "stream",
     "text": [
      "Normalized RMSE with hyperparameter optimization:\n",
      "R2: 0.59\n",
      "Normalized RMSE as % is = 12.0\n",
      "12.0\n",
      "Normalized RMSE without hyperparameter optimization:\n",
      "R2: 0.546\n",
      "Normalized RMSE as % is = 12.0\n",
      "12.0\n"
     ]
    }
   ],
   "source": [
    "# Random Forest\n",
    "max_depth_range = [20, 30, 40]#range(1, 10)\n",
    "min_samples_leaf_range = [2, 5, 10]#range(1, 10)\n",
    "n_estimators_range= [50, 100, 200]\n",
    "# Create hyperparameter options\n",
    "hyperparameters = dict(n_estimators=n_estimators_range, max_depth=max_depth_range, min_samples_leaf=min_samples_leaf_range)\n",
    "\n",
    "model = RandomForestRegressor(random_state=1)\n",
    "Hyperp_Optim(hyperparameters, model)"
   ]
  },
  {
   "cell_type": "code",
   "execution_count": 42,
   "metadata": {},
   "outputs": [
    {
     "name": "stdout",
     "output_type": "stream",
     "text": [
      "Normalized RMSE with hyperparameter optimization:\n",
      "R2: 0.419\n",
      "Normalized RMSE as % is = 14.0\n",
      "14.0\n",
      "Normalized RMSE without hyperparameter optimization:\n",
      "R2: 0.404\n",
      "Normalized RMSE as % is = 14.0\n",
      "14.0\n"
     ]
    }
   ],
   "source": [
    "# Adaboost\n",
    "n_estimators_range= [1000, 2000, 9000]\n",
    "learning_rate = [.1, .5, 1.5]\n",
    "# Create hyperparameter options\n",
    "hyperparameters = dict(learning_rate = learning_rate, n_estimators=n_estimators_range)\n",
    "\n",
    "model = AdaBoostRegressor(random_state=1)\n",
    "Hyperp_Optim(hyperparameters, model)"
   ]
  }
 ],
 "metadata": {
  "kernelspec": {
   "display_name": "Python 3",
   "language": "python",
   "name": "python3"
  },
  "language_info": {
   "codemirror_mode": {
    "name": "ipython",
    "version": 3
   },
   "file_extension": ".py",
   "mimetype": "text/x-python",
   "name": "python",
   "nbconvert_exporter": "python",
   "pygments_lexer": "ipython3",
   "version": "3.6.7"
  }
 },
 "nbformat": 4,
 "nbformat_minor": 1
}
